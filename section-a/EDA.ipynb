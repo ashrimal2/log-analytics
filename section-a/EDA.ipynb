{
 "cells": [
  {
   "cell_type": "code",
   "execution_count": 1,
   "metadata": {},
   "outputs": [],
   "source": [
    "# Import necessary modules\n",
    "from datetime import datetime\n",
    "\n",
    "import matplotlib.pyplot as plt\n",
    "import numpy as np\n",
    "import pandas as pd\n",
    "import pyspark.sql.functions as F\n",
    "import seaborn as sns\n",
    "from pyspark.context import SparkContext\n",
    "from pyspark.sql.context import SQLContext\n",
    "from pyspark.sql.functions import (\n",
    "    col,\n",
    "    count,\n",
    "    from_unixtime,\n",
    "    isnan,\n",
    "    regexp_extract,\n",
    "    split,\n",
    ")\n",
    "from pyspark.sql.functions import sum as spark_sum\n",
    "from pyspark.sql.functions import to_timestamp, udf, unix_timestamp, when\n",
    "from pyspark.sql.session import SparkSession\n",
    "from pyspark.sql.types import StringType, TimestampType\n",
    "from pyspark.sql.window import Window\n",
    "\n",
    "# Set up matplotlib to work in Jupyter notebooks\n",
    "%matplotlib inline"
   ]
  },
  {
   "cell_type": "code",
   "execution_count": 2,
   "metadata": {},
   "outputs": [
    {
     "name": "stderr",
     "output_type": "stream",
     "text": [
      "Setting default log level to \"WARN\".\n",
      "To adjust logging level use sc.setLogLevel(newLevel). For SparkR, use setLogLevel(newLevel).\n",
      "23/06/30 15:07:32 WARN NativeCodeLoader: Unable to load native-hadoop library for your platform... using builtin-java classes where applicable\n",
      "/Users/aditshrimal/opt/anaconda3/envs/DistributedDataSystems/lib/python3.10/site-packages/pyspark/sql/context.py:112: FutureWarning: Deprecated in 3.0.0. Use SparkSession.builder.getOrCreate() instead.\n",
      "  warnings.warn(\n"
     ]
    }
   ],
   "source": [
    "# Create SparkContext, SQLContext, and SparkSession objects\n",
    "\n",
    "sc = SparkContext()\n",
    "sqlContext = SQLContext(sc)\n",
    "spark = SparkSession(sc)"
   ]
  },
  {
   "cell_type": "code",
   "execution_count": 3,
   "metadata": {},
   "outputs": [
    {
     "data": {
      "text/html": [
       "\n",
       "            <div>\n",
       "                <p><b>SparkSession - in-memory</b></p>\n",
       "                \n",
       "        <div>\n",
       "            <p><b>SparkContext</b></p>\n",
       "\n",
       "            <p><a href=\"http://adits-air.lan:4040\">Spark UI</a></p>\n",
       "\n",
       "            <dl>\n",
       "              <dt>Version</dt>\n",
       "                <dd><code>v3.4.1</code></dd>\n",
       "              <dt>Master</dt>\n",
       "                <dd><code>local[*]</code></dd>\n",
       "              <dt>AppName</dt>\n",
       "                <dd><code>pyspark-shell</code></dd>\n",
       "            </dl>\n",
       "        </div>\n",
       "        \n",
       "            </div>\n",
       "        "
      ],
      "text/plain": [
       "<pyspark.sql.session.SparkSession at 0x7f87880cb1f0>"
      ]
     },
     "execution_count": 3,
     "metadata": {},
     "output_type": "execute_result"
    }
   ],
   "source": [
    "\n",
    "# Print the SparkSession\n",
    "\n",
    "spark"
   ]
  },
  {
   "cell_type": "code",
   "execution_count": 4,
   "metadata": {},
   "outputs": [],
   "source": [
    "# rdd = sc.textFile(\"/Users/aditshrimal/Desktop/MSDS/summer23/assignments/log-analytics/dataset/NASA_access_log_Aug95.gz\")\n",
    "# rdd.take(5)"
   ]
  },
  {
   "cell_type": "code",
   "execution_count": 5,
   "metadata": {},
   "outputs": [],
   "source": [
    "# Load the data into a DataFrame\n",
    "\n",
    "df = spark.read.text(\n",
    "    \"/Users/aditshrimal/Desktop/MSDS/summer23/assignments/log-analytics/dataset/NASA_access_log_Aug95.gz\"\n",
    ")\n",
    "\n",
    "# df2 = spark.read.text(\n",
    "#     \"/Users/aditshrimal/Desktop/MSDS/summer23/assignments/log-analytics/dataset/NASA_access_log_Jul95.gz\"\n",
    "# )\n",
    "\n",
    "# df = df1.union(df2)"
   ]
  },
  {
   "cell_type": "code",
   "execution_count": 6,
   "metadata": {},
   "outputs": [
    {
     "name": "stderr",
     "output_type": "stream",
     "text": [
      "[Stage 0:>                                                          (0 + 1) / 1]\r"
     ]
    },
    {
     "name": "stdout",
     "output_type": "stream",
     "text": [
      "+--------------------------------------------------------------------------------------------------------------------------+\n",
      "|value                                                                                                                     |\n",
      "+--------------------------------------------------------------------------------------------------------------------------+\n",
      "|in24.inetnebr.com - - [01/Aug/1995:00:00:01 -0400] \"GET /shuttle/missions/sts-68/news/sts-68-mcc-05.txt HTTP/1.0\" 200 1839|\n",
      "|uplherc.upl.com - - [01/Aug/1995:00:00:07 -0400] \"GET / HTTP/1.0\" 304 0                                                   |\n",
      "|uplherc.upl.com - - [01/Aug/1995:00:00:08 -0400] \"GET /images/ksclogo-medium.gif HTTP/1.0\" 304 0                          |\n",
      "|uplherc.upl.com - - [01/Aug/1995:00:00:08 -0400] \"GET /images/MOSAIC-logosmall.gif HTTP/1.0\" 304 0                        |\n",
      "|uplherc.upl.com - - [01/Aug/1995:00:00:08 -0400] \"GET /images/USA-logosmall.gif HTTP/1.0\" 304 0                           |\n",
      "+--------------------------------------------------------------------------------------------------------------------------+\n",
      "only showing top 5 rows\n",
      "\n"
     ]
    },
    {
     "name": "stderr",
     "output_type": "stream",
     "text": [
      "                                                                                \r"
     ]
    }
   ],
   "source": [
    "df.show(5, truncate=False)"
   ]
  },
  {
   "cell_type": "markdown",
   "metadata": {},
   "source": [
    "The logs are an ASCII file with one line per request, with the following columns:\n",
    "1. host making the request. A hostname when possible, otherwise the Internet address if the name could not be looked up.\n",
    "2. timestamp in the format \"DAY MON DD HH:MM:SS YYYY\", where DAY is the day of the week, MON is the name of the month, DD is the day of the month, HH:MM:SS is the time of day using a 24-hour clock, and YYYY is the year. The timezone is -0400.\n",
    "3. request given in quotes.\n",
    "4. HTTP reply code.\n",
    "5. bytes in the reply."
   ]
  },
  {
   "cell_type": "code",
   "execution_count": 7,
   "metadata": {},
   "outputs": [],
   "source": [
    "# Parse the log data into separate columns\n",
    "\n",
    "df_parsed = df.select(\n",
    "    regexp_extract(\"value\", r\"^([^\\s]+\\s)\", 1).alias(\"host\"),\n",
    "    regexp_extract(\n",
    "        \"value\", r\"^.*\\[(\\d\\d/\\w{3}/\\d{4}:\\d{2}:\\d{2}:\\d{2} -\\d{4})]\", 1\n",
    "    ).alias(\"timestamp\"),\n",
    "    regexp_extract(\"value\", r'^.*\"\\s*(\\w+)\\s+([^\\s]+)\\s+([^\\s]+)\"', 1).alias(\"method\"),\n",
    "    regexp_extract(\"value\", r'^.*\"\\s*(\\w+)\\s+([^\\s]+)\\s+([^\\s]+)\"', 2).alias(\n",
    "        \"endpoint\"\n",
    "    ),\n",
    "    regexp_extract(\"value\", r'^.*\"\\s*(\\w+)\\s+([^\\s]+)\\s+([^\\s]+)\"', 3).alias(\n",
    "        \"protocol\"\n",
    "    ),\n",
    "    regexp_extract(\"value\", r'^.*\"\\s+([^\\s]+)', 1).cast(\"integer\").alias(\"status\"),\n",
    "    regexp_extract(\"value\", r\"^.*\\s+(\\d+)$\", 1).cast(\"integer\").alias(\"content_size\"),\n",
    ")"
   ]
  },
  {
   "cell_type": "code",
   "execution_count": 8,
   "metadata": {},
   "outputs": [
    {
     "name": "stdout",
     "output_type": "stream",
     "text": [
      "+------------------+--------------------------+------+-----------------------------------------------+--------+------+------------+\n",
      "|host              |timestamp                 |method|endpoint                                       |protocol|status|content_size|\n",
      "+------------------+--------------------------+------+-----------------------------------------------+--------+------+------------+\n",
      "|in24.inetnebr.com |01/Aug/1995:00:00:01 -0400|GET   |/shuttle/missions/sts-68/news/sts-68-mcc-05.txt|HTTP/1.0|200   |1839        |\n",
      "|uplherc.upl.com   |01/Aug/1995:00:00:07 -0400|GET   |/                                              |HTTP/1.0|304   |0           |\n",
      "|uplherc.upl.com   |01/Aug/1995:00:00:08 -0400|GET   |/images/ksclogo-medium.gif                     |HTTP/1.0|304   |0           |\n",
      "|uplherc.upl.com   |01/Aug/1995:00:00:08 -0400|GET   |/images/MOSAIC-logosmall.gif                   |HTTP/1.0|304   |0           |\n",
      "|uplherc.upl.com   |01/Aug/1995:00:00:08 -0400|GET   |/images/USA-logosmall.gif                      |HTTP/1.0|304   |0           |\n",
      "+------------------+--------------------------+------+-----------------------------------------------+--------+------+------------+\n",
      "only showing top 5 rows\n",
      "\n"
     ]
    }
   ],
   "source": [
    "df_parsed.show(5, truncate=False)"
   ]
  },
  {
   "cell_type": "code",
   "execution_count": 9,
   "metadata": {},
   "outputs": [
    {
     "name": "stderr",
     "output_type": "stream",
     "text": [
      "                                                                                \r"
     ]
    },
    {
     "data": {
      "text/plain": [
       "{'host': 0,\n",
       " 'timestamp': 0,\n",
       " 'method': 0,\n",
       " 'endpoint': 0,\n",
       " 'protocol': 0,\n",
       " 'status': 0,\n",
       " 'content_size': 14178}"
      ]
     },
     "execution_count": 9,
     "metadata": {},
     "output_type": "execute_result"
    }
   ],
   "source": [
    "# Define a function to count the number of null values in a column\n",
    "\n",
    "def count_null(col_name):\n",
    "    return df_parsed.filter(col(col_name).isNull()).count()\n",
    "\n",
    "# Count the number of null values in each column\n",
    "exprs = {col_name: count_null(col_name) for col_name in df_parsed.columns}\n",
    "\n",
    "exprs"
   ]
  },
  {
   "cell_type": "code",
   "execution_count": 10,
   "metadata": {},
   "outputs": [
    {
     "name": "stderr",
     "output_type": "stream",
     "text": [
      "                                                                                \r"
     ]
    },
    {
     "data": {
      "text/plain": [
       "14178"
      ]
     },
     "execution_count": 10,
     "metadata": {},
     "output_type": "execute_result"
    }
   ],
   "source": [
    "# Identify the rows where the content_size is null\n",
    "\n",
    "null_content_size_df = df.filter(~df[\"value\"].rlike(r\"\\s\\d+$\"))\n",
    "null_content_size_df.count()"
   ]
  },
  {
   "cell_type": "code",
   "execution_count": 11,
   "metadata": {},
   "outputs": [
    {
     "data": {
      "text/plain": [
       "[Row(value='gw1.att.com - - [01/Aug/1995:00:03:53 -0400] \"GET /shuttle/missions/sts-73/news HTTP/1.0\" 302 -'),\n",
       " Row(value='js002.cc.utsunomiya-u.ac.jp - - [01/Aug/1995:00:07:33 -0400] \"GET /shuttle/resources/orbiters/discovery.gif HTTP/1.0\" 404 -'),\n",
       " Row(value='tia1.eskimo.com - - [01/Aug/1995:00:28:41 -0400] \"GET /pub/winvn/release.txt HTTP/1.0\" 404 -'),\n",
       " Row(value='itws.info.eng.niigata-u.ac.jp - - [01/Aug/1995:00:38:01 -0400] \"GET /ksc.html/facts/about_ksc.html HTTP/1.0\" 403 -'),\n",
       " Row(value='grimnet23.idirect.com - - [01/Aug/1995:00:50:12 -0400] \"GET /www/software/winvn/winvn.html HTTP/1.0\" 404 -'),\n",
       " Row(value='miriworld.its.unimelb.edu.au - - [01/Aug/1995:01:04:54 -0400] \"GET /history/history.htm HTTP/1.0\" 404 -'),\n",
       " Row(value='ras38.srv.net - - [01/Aug/1995:01:05:14 -0400] \"GET /elv/DELTA/uncons.htm HTTP/1.0\" 404 -'),\n",
       " Row(value='cs1-06.leh.ptd.net - - [01/Aug/1995:01:17:38 -0400] \"GET /sts-71/launch/\" 404 -'),\n",
       " Row(value='www-b2.proxy.aol.com - - [01/Aug/1995:01:22:07 -0400] \"GET /shuttle/countdown HTTP/1.0\" 302 -'),\n",
       " Row(value='maui56.maui.net - - [01/Aug/1995:01:31:56 -0400] \"GET /shuttle HTTP/1.0\" 302 -')]"
      ]
     },
     "execution_count": 11,
     "metadata": {},
     "output_type": "execute_result"
    }
   ],
   "source": [
    "null_content_size_df.take(10)"
   ]
  },
  {
   "cell_type": "markdown",
   "metadata": {},
   "source": [
    "### Fixing the rows with null content_size"
   ]
  },
  {
   "cell_type": "code",
   "execution_count": 12,
   "metadata": {},
   "outputs": [],
   "source": [
    "# Replace the null values in the content_size column with 0\n",
    "\n",
    "df_parsed = df_parsed.na.fill({\"content_size\": 0})"
   ]
  },
  {
   "cell_type": "code",
   "execution_count": 13,
   "metadata": {},
   "outputs": [
    {
     "name": "stderr",
     "output_type": "stream",
     "text": [
      "                                                                                \r"
     ]
    },
    {
     "data": {
      "text/plain": [
       "{'host': 0,\n",
       " 'timestamp': 0,\n",
       " 'method': 0,\n",
       " 'endpoint': 0,\n",
       " 'protocol': 0,\n",
       " 'status': 0,\n",
       " 'content_size': 0}"
      ]
     },
     "execution_count": 13,
     "metadata": {},
     "output_type": "execute_result"
    }
   ],
   "source": [
    "# Count the number of null values in each column after the replacement\n",
    "\n",
    "exprs = {col_name: count_null(col_name) for col_name in df_parsed.columns}\n",
    "exprs"
   ]
  },
  {
   "cell_type": "markdown",
   "metadata": {},
   "source": [
    "### Handling Temporal Fields (Timestamp)"
   ]
  },
  {
   "cell_type": "code",
   "execution_count": 14,
   "metadata": {},
   "outputs": [],
   "source": [
    "# Define a function to convert the string to timestamp\n",
    "def parse_date(df, column, pattern):\n",
    "    return df.withColumn(column, from_unixtime(unix_timestamp(df[column], pattern)))"
   ]
  },
  {
   "cell_type": "code",
   "execution_count": 15,
   "metadata": {},
   "outputs": [],
   "source": [
    "# Specify the date pattern\n",
    "\n",
    "date_pattern = \"dd/MMM/yyyy:HH:mm:ss\""
   ]
  },
  {
   "cell_type": "code",
   "execution_count": 16,
   "metadata": {},
   "outputs": [],
   "source": [
    "# Create a mapping from month names to numbers\n",
    "\n",
    "month_map = {\n",
    "    \"Jan\": 1,\n",
    "    \"Feb\": 2,\n",
    "    \"Mar\": 3,\n",
    "    \"Apr\": 4,\n",
    "    \"May\": 5,\n",
    "    \"Jun\": 6,\n",
    "    \"Jul\": 7,\n",
    "    \"Aug\": 8,\n",
    "    \"Sep\": 9,\n",
    "    \"Oct\": 10,\n",
    "    \"Nov\": 11,\n",
    "    \"Dec\": 12,\n",
    "}\n",
    "\n",
    "# Define a function to parse the timestamp string in the log data\n",
    "def parse_clf_time(text):\n",
    "    return \"{0:04d}-{1:02d}-{2:02d} {3:02d}:{4:02d}:{5:02d}\".format(\n",
    "        int(text[7:11]),\n",
    "        month_map[text[3:6]],\n",
    "        int(text[0:2]),\n",
    "        int(text[12:14]),\n",
    "        int(text[15:17]),\n",
    "        int(text[18:20]),\n",
    "    )"
   ]
  },
  {
   "cell_type": "code",
   "execution_count": 17,
   "metadata": {},
   "outputs": [],
   "source": [
    "# Define a UDF (user-defined function) to parse the timestamp\n",
    "udf_parse_time = udf(parse_clf_time, StringType())"
   ]
  },
  {
   "cell_type": "code",
   "execution_count": 18,
   "metadata": {},
   "outputs": [],
   "source": [
    "# Set the time parser policy to \"LEGACY\"\n",
    "spark.conf.set(\"spark.sql.legacy.timeParserPolicy\", \"LEGACY\")"
   ]
  },
  {
   "cell_type": "code",
   "execution_count": 19,
   "metadata": {},
   "outputs": [
    {
     "name": "stderr",
     "output_type": "stream",
     "text": [
      "[Stage 47:>                                                         (0 + 1) / 1]\r"
     ]
    },
    {
     "name": "stdout",
     "output_type": "stream",
     "text": [
      "+--------------------+-------------------+------+--------------------+--------+------+------------+\n",
      "|                host|          timestamp|method|            endpoint|protocol|status|content_size|\n",
      "+--------------------+-------------------+------+--------------------+--------+------+------------+\n",
      "|  in24.inetnebr.com |1995-08-01 00:00:01|   GET|/shuttle/missions...|HTTP/1.0|   200|        1839|\n",
      "|    uplherc.upl.com |1995-08-01 00:00:07|   GET|                   /|HTTP/1.0|   304|           0|\n",
      "|    uplherc.upl.com |1995-08-01 00:00:08|   GET|/images/ksclogo-m...|HTTP/1.0|   304|           0|\n",
      "|    uplherc.upl.com |1995-08-01 00:00:08|   GET|/images/MOSAIC-lo...|HTTP/1.0|   304|           0|\n",
      "|    uplherc.upl.com |1995-08-01 00:00:08|   GET|/images/USA-logos...|HTTP/1.0|   304|           0|\n",
      "|ix-esc-ca2-07.ix....|1995-08-01 00:00:09|   GET|/images/launch-lo...|HTTP/1.0|   200|        1713|\n",
      "|    uplherc.upl.com |1995-08-01 00:00:10|   GET|/images/WORLD-log...|HTTP/1.0|   304|           0|\n",
      "|slppp6.intermind....|1995-08-01 00:00:10|   GET|/history/skylab/s...|HTTP/1.0|   200|        1687|\n",
      "|piweba4y.prodigy....|1995-08-01 00:00:10|   GET|/images/launchmed...|HTTP/1.0|   200|       11853|\n",
      "|slppp6.intermind....|1995-08-01 00:00:11|   GET|/history/skylab/s...|HTTP/1.0|   200|        9202|\n",
      "+--------------------+-------------------+------+--------------------+--------+------+------------+\n",
      "only showing top 10 rows\n",
      "\n"
     ]
    },
    {
     "name": "stderr",
     "output_type": "stream",
     "text": [
      "                                                                                \r"
     ]
    }
   ],
   "source": [
    "# Convert timestamp column using UDF and then to_timestamp to get it into timestamp format\n",
    "df_parsed = df_parsed.withColumn(\n",
    "    \"timestamp\", to_timestamp(udf_parse_time(df_parsed[\"timestamp\"]))\n",
    ")\n",
    "\n",
    "df_parsed.show(10, truncate=True)"
   ]
  },
  {
   "cell_type": "code",
   "execution_count": 20,
   "metadata": {},
   "outputs": [
    {
     "name": "stdout",
     "output_type": "stream",
     "text": [
      "root\n",
      " |-- host: string (nullable = true)\n",
      " |-- timestamp: timestamp (nullable = true)\n",
      " |-- method: string (nullable = true)\n",
      " |-- endpoint: string (nullable = true)\n",
      " |-- protocol: string (nullable = true)\n",
      " |-- status: integer (nullable = true)\n",
      " |-- content_size: integer (nullable = false)\n",
      "\n"
     ]
    }
   ],
   "source": [
    "df_parsed.printSchema()"
   ]
  },
  {
   "cell_type": "code",
   "execution_count": 21,
   "metadata": {},
   "outputs": [
    {
     "data": {
      "text/plain": [
       "DataFrame[host: string, timestamp: timestamp, method: string, endpoint: string, protocol: string, status: int, content_size: int]"
      ]
     },
     "execution_count": 21,
     "metadata": {},
     "output_type": "execute_result"
    }
   ],
   "source": [
    "# Cache the DataFrame to speed up subsequent operations\n",
    "df_parsed.cache()"
   ]
  },
  {
   "cell_type": "markdown",
   "metadata": {},
   "source": [
    "## Exploratory Data Analysis"
   ]
  },
  {
   "cell_type": "markdown",
   "metadata": {},
   "source": [
    "### Content Size Analysis"
   ]
  },
  {
   "cell_type": "code",
   "execution_count": 22,
   "metadata": {},
   "outputs": [
    {
     "name": "stdout",
     "output_type": "stream",
     "text": [
      "+----+---------+------+--------+--------+------+------------+\n",
      "|host|timestamp|method|endpoint|protocol|status|content_size|\n",
      "+----+---------+------+--------+--------+------+------------+\n",
      "+----+---------+------+--------+--------+------+------------+\n",
      "\n"
     ]
    }
   ],
   "source": [
    "df_parsed.filter(df_parsed['content_size']=='').show()"
   ]
  },
  {
   "cell_type": "code",
   "execution_count": 23,
   "metadata": {},
   "outputs": [
    {
     "name": "stderr",
     "output_type": "stream",
     "text": [
      "                                                                                \r"
     ]
    },
    {
     "data": {
      "text/html": [
       "<div>\n",
       "<style scoped>\n",
       "    .dataframe tbody tr th:only-of-type {\n",
       "        vertical-align: middle;\n",
       "    }\n",
       "\n",
       "    .dataframe tbody tr th {\n",
       "        vertical-align: top;\n",
       "    }\n",
       "\n",
       "    .dataframe thead th {\n",
       "        text-align: right;\n",
       "    }\n",
       "</style>\n",
       "<table border=\"1\" class=\"dataframe\">\n",
       "  <thead>\n",
       "    <tr style=\"text-align: right;\">\n",
       "      <th></th>\n",
       "      <th>summary</th>\n",
       "      <th>content_size</th>\n",
       "    </tr>\n",
       "  </thead>\n",
       "  <tbody>\n",
       "    <tr>\n",
       "      <th>0</th>\n",
       "      <td>count</td>\n",
       "      <td>1569898</td>\n",
       "    </tr>\n",
       "    <tr>\n",
       "      <th>1</th>\n",
       "      <td>mean</td>\n",
       "      <td>17089.225812122826</td>\n",
       "    </tr>\n",
       "    <tr>\n",
       "      <th>2</th>\n",
       "      <td>stddev</td>\n",
       "      <td>67954.76392156907</td>\n",
       "    </tr>\n",
       "    <tr>\n",
       "      <th>3</th>\n",
       "      <td>min</td>\n",
       "      <td>0</td>\n",
       "    </tr>\n",
       "    <tr>\n",
       "      <th>4</th>\n",
       "      <td>max</td>\n",
       "      <td>3421948</td>\n",
       "    </tr>\n",
       "  </tbody>\n",
       "</table>\n",
       "</div>"
      ],
      "text/plain": [
       "  summary        content_size\n",
       "0   count             1569898\n",
       "1    mean  17089.225812122826\n",
       "2  stddev   67954.76392156907\n",
       "3     min                   0\n",
       "4     max             3421948"
      ]
     },
     "execution_count": 23,
     "metadata": {},
     "output_type": "execute_result"
    }
   ],
   "source": [
    "# Analyzing the 'content_size' field\n",
    "content_size_summary_df = df_parsed.describe([\"content_size\"])\n",
    "content_size_summary_df.toPandas()"
   ]
  },
  {
   "cell_type": "markdown",
   "metadata": {},
   "source": [
    "### HTTP Status Analysis"
   ]
  },
  {
   "cell_type": "code",
   "execution_count": 24,
   "metadata": {},
   "outputs": [
    {
     "name": "stderr",
     "output_type": "stream",
     "text": [
      "[Stage 54:===================================================>  (192 + 8) / 200]\r"
     ]
    },
    {
     "name": "stdout",
     "output_type": "stream",
     "text": [
      "Total distinct HTTP Status Codes: 8\n"
     ]
    },
    {
     "name": "stderr",
     "output_type": "stream",
     "text": [
      "                                                                                \r"
     ]
    }
   ],
   "source": [
    "# Analyzing the HTTP Status Codes. We group by status and count\n",
    "status_freq_df = df_parsed.groupBy(\"status\").count().sort(\"status\").cache()\n",
    "print(\"Total distinct HTTP Status Codes:\", status_freq_df.count())"
   ]
  },
  {
   "cell_type": "code",
   "execution_count": 25,
   "metadata": {},
   "outputs": [
    {
     "data": {
      "text/html": [
       "<div>\n",
       "<style scoped>\n",
       "    .dataframe tbody tr th:only-of-type {\n",
       "        vertical-align: middle;\n",
       "    }\n",
       "\n",
       "    .dataframe tbody tr th {\n",
       "        vertical-align: top;\n",
       "    }\n",
       "\n",
       "    .dataframe thead th {\n",
       "        text-align: right;\n",
       "    }\n",
       "</style>\n",
       "<table border=\"1\" class=\"dataframe\">\n",
       "  <thead>\n",
       "    <tr style=\"text-align: right;\">\n",
       "      <th></th>\n",
       "      <th>status</th>\n",
       "      <th>count</th>\n",
       "    </tr>\n",
       "  </thead>\n",
       "  <tbody>\n",
       "    <tr>\n",
       "      <th>0</th>\n",
       "      <td>200</td>\n",
       "      <td>1398988</td>\n",
       "    </tr>\n",
       "    <tr>\n",
       "      <th>2</th>\n",
       "      <td>304</td>\n",
       "      <td>134146</td>\n",
       "    </tr>\n",
       "    <tr>\n",
       "      <th>1</th>\n",
       "      <td>302</td>\n",
       "      <td>26497</td>\n",
       "    </tr>\n",
       "    <tr>\n",
       "      <th>5</th>\n",
       "      <td>404</td>\n",
       "      <td>10056</td>\n",
       "    </tr>\n",
       "    <tr>\n",
       "      <th>4</th>\n",
       "      <td>403</td>\n",
       "      <td>171</td>\n",
       "    </tr>\n",
       "    <tr>\n",
       "      <th>7</th>\n",
       "      <td>501</td>\n",
       "      <td>27</td>\n",
       "    </tr>\n",
       "    <tr>\n",
       "      <th>3</th>\n",
       "      <td>400</td>\n",
       "      <td>10</td>\n",
       "    </tr>\n",
       "    <tr>\n",
       "      <th>6</th>\n",
       "      <td>500</td>\n",
       "      <td>3</td>\n",
       "    </tr>\n",
       "  </tbody>\n",
       "</table>\n",
       "</div>"
      ],
      "text/plain": [
       "   status    count\n",
       "0     200  1398988\n",
       "2     304   134146\n",
       "1     302    26497\n",
       "5     404    10056\n",
       "4     403      171\n",
       "7     501       27\n",
       "3     400       10\n",
       "6     500        3"
      ]
     },
     "execution_count": 25,
     "metadata": {},
     "output_type": "execute_result"
    }
   ],
   "source": [
    "# Convert status_freq_df to a pandas DataFrame and sort it by the count column\n",
    "status_freq_pd_df = status_freq_df.toPandas().sort_values(by=[\"count\"], ascending=False)\n",
    "status_freq_pd_df"
   ]
  },
  {
   "cell_type": "code",
   "execution_count": 26,
   "metadata": {},
   "outputs": [
    {
     "data": {
      "text/plain": [
       "<seaborn.axisgrid.FacetGrid at 0x7fbea05334c0>"
      ]
     },
     "execution_count": 26,
     "metadata": {},
     "output_type": "execute_result"
    },
    {
     "data": {
      "image/png": "[encoded data removed]",
      "text/plain": [
       "<Figure size 500x500 with 1 Axes>"
      ]
     },
     "metadata": {},
     "output_type": "display_data"
    }
   ],
   "source": [
    "# Visualize the HTTP Status Codes\n",
    "sns.catplot(\n",
    "    x=\"status\",\n",
    "    y=\"count\",\n",
    "    data=status_freq_pd_df,\n",
    "    kind=\"bar\",\n",
    "    order=status_freq_pd_df[\"status\"],\n",
    ")"
   ]
  },
  {
   "cell_type": "markdown",
   "metadata": {},
   "source": [
    "#### Log transformation"
   ]
  },
  {
   "cell_type": "code",
   "execution_count": 27,
   "metadata": {},
   "outputs": [
    {
     "name": "stderr",
     "output_type": "stream",
     "text": [
      "                                                                                \r"
     ]
    },
    {
     "name": "stdout",
     "output_type": "stream",
     "text": [
      "+------+-------+------------------+\n",
      "|status|  count|        log(count)|\n",
      "+------+-------+------------------+\n",
      "|   200|1398988|14.151259676055433|\n",
      "|   302|  26497|10.184786798018687|\n",
      "|   304| 134146|11.806684038040606|\n",
      "|   400|     10| 2.302585092994046|\n",
      "|   403|    171|  5.14166355650266|\n",
      "|   404|  10056| 9.215924750270084|\n",
      "|   500|      3|1.0986122886681096|\n",
      "|   501|     27| 3.295836866004329|\n",
      "+------+-------+------------------+\n",
      "\n"
     ]
    }
   ],
   "source": [
    "# Applying a log transformation to visualize the data better\n",
    "log_freq_df = status_freq_df.withColumn(\"log(count)\", F.log(status_freq_df[\"count\"]))\n",
    "log_freq_df.show()"
   ]
  },
  {
   "cell_type": "code",
   "execution_count": 28,
   "metadata": {},
   "outputs": [
    {
     "data": {
      "text/plain": [
       "<seaborn.axisgrid.FacetGrid at 0x7fbec19180a0>"
      ]
     },
     "execution_count": 28,
     "metadata": {},
     "output_type": "execute_result"
    },
    {
     "data": {
      "image/png": "[encoded data removed]",
      "text/plain": [
       "<Figure size 500x500 with 1 Axes>"
      ]
     },
     "metadata": {},
     "output_type": "display_data"
    }
   ],
   "source": [
    "# Visualize the HTTP Status Codes after log transformation\n",
    "log_freq_pd_df = log_freq_df.toPandas().sort_values(by=[\"log(count)\"], ascending=False)\n",
    "sns.catplot(\n",
    "    x=\"status\",\n",
    "    y=\"log(count)\",\n",
    "    data=log_freq_pd_df,\n",
    "    kind=\"bar\",\n",
    "    order=status_freq_pd_df[\"status\"],\n",
    ")"
   ]
  },
  {
   "cell_type": "markdown",
   "metadata": {},
   "source": [
    "### Analyzing Frequent Hosts"
   ]
  },
  {
   "cell_type": "code",
   "execution_count": 29,
   "metadata": {},
   "outputs": [
    {
     "name": "stderr",
     "output_type": "stream",
     "text": [
      "[Stage 75:>                                                         (0 + 1) / 1]\r"
     ]
    },
    {
     "name": "stdout",
     "output_type": "stream",
     "text": [
      "+---------------------+-----+\n",
      "|host                 |count|\n",
      "+---------------------+-----+\n",
      "|edams.ksc.nasa.gov   |6530 |\n",
      "|piweba4y.prodigy.com |4846 |\n",
      "|163.206.89.4         |4791 |\n",
      "|piweba5y.prodigy.com |4607 |\n",
      "|piweba3y.prodigy.com |4416 |\n",
      "|www-d1.proxy.aol.com |3889 |\n",
      "|www-b2.proxy.aol.com |3534 |\n",
      "|www-b3.proxy.aol.com |3463 |\n",
      "|www-c5.proxy.aol.com |3423 |\n",
      "|www-b5.proxy.aol.com |3411 |\n",
      "+---------------------+-----+\n",
      "\n"
     ]
    },
    {
     "name": "stderr",
     "output_type": "stream",
     "text": [
      "                                                                                \r"
     ]
    }
   ],
   "source": [
    "# Analyze the top 10 hosts who accessed the web server the most\n",
    "host_sum_df = df_parsed.groupBy(\"host\").count().sort(\"count\", ascending=False).limit(10)\n",
    "\n",
    "host_sum_df.show(truncate=False)"
   ]
  },
  {
   "cell_type": "markdown",
   "metadata": {},
   "source": [
    "### Top 20 Frequent EndPoints"
   ]
  },
  {
   "cell_type": "code",
   "execution_count": 30,
   "metadata": {},
   "outputs": [
    {
     "name": "stderr",
     "output_type": "stream",
     "text": [
      "                                                                                \r"
     ]
    },
    {
     "data": {
      "text/html": [
       "<div>\n",
       "<style scoped>\n",
       "    .dataframe tbody tr th:only-of-type {\n",
       "        vertical-align: middle;\n",
       "    }\n",
       "\n",
       "    .dataframe tbody tr th {\n",
       "        vertical-align: top;\n",
       "    }\n",
       "\n",
       "    .dataframe thead th {\n",
       "        text-align: right;\n",
       "    }\n",
       "</style>\n",
       "<table border=\"1\" class=\"dataframe\">\n",
       "  <thead>\n",
       "    <tr style=\"text-align: right;\">\n",
       "      <th></th>\n",
       "      <th>endpoint</th>\n",
       "      <th>count</th>\n",
       "    </tr>\n",
       "  </thead>\n",
       "  <tbody>\n",
       "    <tr>\n",
       "      <th>0</th>\n",
       "      <td>/images/NASA-logosmall.gif</td>\n",
       "      <td>97267</td>\n",
       "    </tr>\n",
       "    <tr>\n",
       "      <th>1</th>\n",
       "      <td>/images/KSC-logosmall.gif</td>\n",
       "      <td>75278</td>\n",
       "    </tr>\n",
       "    <tr>\n",
       "      <th>2</th>\n",
       "      <td>/images/MOSAIC-logosmall.gif</td>\n",
       "      <td>67349</td>\n",
       "    </tr>\n",
       "    <tr>\n",
       "      <th>3</th>\n",
       "      <td>/images/USA-logosmall.gif</td>\n",
       "      <td>66968</td>\n",
       "    </tr>\n",
       "    <tr>\n",
       "      <th>4</th>\n",
       "      <td>/images/WORLD-logosmall.gif</td>\n",
       "      <td>66344</td>\n",
       "    </tr>\n",
       "    <tr>\n",
       "      <th>5</th>\n",
       "      <td>/images/ksclogo-medium.gif</td>\n",
       "      <td>62663</td>\n",
       "    </tr>\n",
       "    <tr>\n",
       "      <th>6</th>\n",
       "      <td>/ksc.html</td>\n",
       "      <td>43615</td>\n",
       "    </tr>\n",
       "    <tr>\n",
       "      <th>7</th>\n",
       "      <td>/history/apollo/images/apollo-logo1.gif</td>\n",
       "      <td>37804</td>\n",
       "    </tr>\n",
       "    <tr>\n",
       "      <th>8</th>\n",
       "      <td>/images/launch-logo.gif</td>\n",
       "      <td>35116</td>\n",
       "    </tr>\n",
       "    <tr>\n",
       "      <th>9</th>\n",
       "      <td>/</td>\n",
       "      <td>30101</td>\n",
       "    </tr>\n",
       "    <tr>\n",
       "      <th>10</th>\n",
       "      <td>/images/ksclogosmall.gif</td>\n",
       "      <td>27787</td>\n",
       "    </tr>\n",
       "    <tr>\n",
       "      <th>11</th>\n",
       "      <td>/shuttle/missions/sts-69/mission-sts-69.html</td>\n",
       "      <td>24592</td>\n",
       "    </tr>\n",
       "    <tr>\n",
       "      <th>12</th>\n",
       "      <td>/shuttle/countdown/</td>\n",
       "      <td>24442</td>\n",
       "    </tr>\n",
       "    <tr>\n",
       "      <th>13</th>\n",
       "      <td>/shuttle/missions/sts-69/count69.gif</td>\n",
       "      <td>24361</td>\n",
       "    </tr>\n",
       "    <tr>\n",
       "      <th>14</th>\n",
       "      <td>/shuttle/missions/sts-69/sts-69-patch-small.gif</td>\n",
       "      <td>23390</td>\n",
       "    </tr>\n",
       "    <tr>\n",
       "      <th>15</th>\n",
       "      <td>/shuttle/missions/missions.html</td>\n",
       "      <td>22427</td>\n",
       "    </tr>\n",
       "    <tr>\n",
       "      <th>16</th>\n",
       "      <td>/images/launchmedium.gif</td>\n",
       "      <td>19861</td>\n",
       "    </tr>\n",
       "    <tr>\n",
       "      <th>17</th>\n",
       "      <td>/htbin/cdt_main.pl</td>\n",
       "      <td>17236</td>\n",
       "    </tr>\n",
       "    <tr>\n",
       "      <th>18</th>\n",
       "      <td>/shuttle/countdown/images/countclock.gif</td>\n",
       "      <td>12152</td>\n",
       "    </tr>\n",
       "    <tr>\n",
       "      <th>19</th>\n",
       "      <td>/icons/menu.xbm</td>\n",
       "      <td>12128</td>\n",
       "    </tr>\n",
       "  </tbody>\n",
       "</table>\n",
       "</div>"
      ],
      "text/plain": [
       "                                           endpoint  count\n",
       "0                        /images/NASA-logosmall.gif  97267\n",
       "1                         /images/KSC-logosmall.gif  75278\n",
       "2                      /images/MOSAIC-logosmall.gif  67349\n",
       "3                         /images/USA-logosmall.gif  66968\n",
       "4                       /images/WORLD-logosmall.gif  66344\n",
       "5                        /images/ksclogo-medium.gif  62663\n",
       "6                                         /ksc.html  43615\n",
       "7           /history/apollo/images/apollo-logo1.gif  37804\n",
       "8                           /images/launch-logo.gif  35116\n",
       "9                                                 /  30101\n",
       "10                         /images/ksclogosmall.gif  27787\n",
       "11     /shuttle/missions/sts-69/mission-sts-69.html  24592\n",
       "12                              /shuttle/countdown/  24442\n",
       "13             /shuttle/missions/sts-69/count69.gif  24361\n",
       "14  /shuttle/missions/sts-69/sts-69-patch-small.gif  23390\n",
       "15                  /shuttle/missions/missions.html  22427\n",
       "16                         /images/launchmedium.gif  19861\n",
       "17                               /htbin/cdt_main.pl  17236\n",
       "18         /shuttle/countdown/images/countclock.gif  12152\n",
       "19                                  /icons/menu.xbm  12128"
      ]
     },
     "execution_count": 30,
     "metadata": {},
     "output_type": "execute_result"
    }
   ],
   "source": [
    "# Analyze the top 20 endpoints requested by the users\n",
    "paths_df = (\n",
    "    df_parsed.groupBy(\"endpoint\").count().sort(\"count\", ascending=False).limit(20)\n",
    ")\n",
    "\n",
    "paths_pd_df = paths_df.toPandas()\n",
    "paths_pd_df"
   ]
  },
  {
   "cell_type": "markdown",
   "metadata": {},
   "source": [
    "### Top Ten Error Endpoints"
   ]
  },
  {
   "cell_type": "code",
   "execution_count": 31,
   "metadata": {},
   "outputs": [
    {
     "name": "stderr",
     "output_type": "stream",
     "text": [
      "[Stage 81:>                                                         (0 + 1) / 1]\r"
     ]
    },
    {
     "name": "stdout",
     "output_type": "stream",
     "text": [
      "+----------------------------------------+-----+\n",
      "|endpoint                                |count|\n",
      "+----------------------------------------+-----+\n",
      "|/images/NASA-logosmall.gif              |19072|\n",
      "|/images/KSC-logosmall.gif               |11328|\n",
      "|/images/MOSAIC-logosmall.gif            |8617 |\n",
      "|/images/USA-logosmall.gif               |8565 |\n",
      "|/images/WORLD-logosmall.gif             |8360 |\n",
      "|/images/ksclogo-medium.gif              |7722 |\n",
      "|/history/apollo/images/apollo-logo1.gif |4355 |\n",
      "|/shuttle/countdown/images/countclock.gif|4227 |\n",
      "|/images/launch-logo.gif                 |4178 |\n",
      "|/                                       |3605 |\n",
      "+----------------------------------------+-----+\n",
      "\n"
     ]
    },
    {
     "name": "stderr",
     "output_type": "stream",
     "text": [
      "                                                                                \r"
     ]
    }
   ],
   "source": [
    "# Identify the top 10 endpoints which resulted in an HTTP response other than 200\n",
    "not200_df = df_parsed.filter(df_parsed[\"status\"] != 200)\n",
    "\n",
    "error_endpoints_freq_df = (\n",
    "    not200_df.groupBy(\"endpoint\").count().sort(\"count\", ascending=False).limit(10)\n",
    ")\n",
    "\n",
    "error_endpoints_freq_df.show(truncate=False)"
   ]
  },
  {
   "cell_type": "markdown",
   "metadata": {},
   "source": [
    "### Total number of Unique Hosts"
   ]
  },
  {
   "cell_type": "code",
   "execution_count": 32,
   "metadata": {},
   "outputs": [
    {
     "name": "stderr",
     "output_type": "stream",
     "text": [
      "                                                                                \r"
     ]
    },
    {
     "data": {
      "text/plain": [
       "75060"
      ]
     },
     "execution_count": 32,
     "metadata": {},
     "output_type": "execute_result"
    }
   ],
   "source": [
    "# Count the total number of unique hosts\n",
    "unique_host_count = df_parsed.select(\"host\").distinct().count()\n",
    "unique_host_count"
   ]
  },
  {
   "cell_type": "markdown",
   "metadata": {},
   "source": [
    "### Number of Unique Daily Hosts"
   ]
  },
  {
   "cell_type": "code",
   "execution_count": 33,
   "metadata": {},
   "outputs": [
    {
     "name": "stdout",
     "output_type": "stream",
     "text": [
      "+------------------+---+\n",
      "|host              |day|\n",
      "+------------------+---+\n",
      "|in24.inetnebr.com |1  |\n",
      "|uplherc.upl.com   |1  |\n",
      "|uplherc.upl.com   |1  |\n",
      "|uplherc.upl.com   |1  |\n",
      "|uplherc.upl.com   |1  |\n",
      "+------------------+---+\n",
      "only showing top 5 rows\n",
      "\n"
     ]
    }
   ],
   "source": [
    "# Find the number of unique hosts in the entire log on a day-by-day basis\n",
    "host_day_df = df_parsed.select(df_parsed.host, F.dayofmonth(\"timestamp\").alias(\"day\"))\n",
    "host_day_df.show(5, truncate=False)"
   ]
  },
  {
   "cell_type": "code",
   "execution_count": 34,
   "metadata": {},
   "outputs": [
    {
     "name": "stderr",
     "output_type": "stream",
     "text": [
      "[Stage 91:>                                                         (0 + 1) / 1]\r"
     ]
    },
    {
     "name": "stdout",
     "output_type": "stream",
     "text": [
      "+----------------+---+\n",
      "|host            |day|\n",
      "+----------------+---+\n",
      "|149.156.238.11  |1  |\n",
      "|130.206.110.5   |1  |\n",
      "|128.159.154.153 |1  |\n",
      "|128.217.61.101  |1  |\n",
      "|130.239.219.149 |1  |\n",
      "+----------------+---+\n",
      "only showing top 5 rows\n",
      "\n"
     ]
    },
    {
     "name": "stderr",
     "output_type": "stream",
     "text": [
      "                                                                                \r"
     ]
    }
   ],
   "source": [
    "# Visualize the daily_hosts_df DataFrame\n",
    "host_day_distinct_df = host_day_df.dropDuplicates()\n",
    "host_day_distinct_df.show(5, truncate=False)"
   ]
  },
  {
   "cell_type": "code",
   "execution_count": 35,
   "metadata": {},
   "outputs": [
    {
     "name": "stderr",
     "output_type": "stream",
     "text": [
      "                                                                                \r"
     ]
    },
    {
     "data": {
      "text/html": [
       "<div>\n",
       "<style scoped>\n",
       "    .dataframe tbody tr th:only-of-type {\n",
       "        vertical-align: middle;\n",
       "    }\n",
       "\n",
       "    .dataframe tbody tr th {\n",
       "        vertical-align: top;\n",
       "    }\n",
       "\n",
       "    .dataframe thead th {\n",
       "        text-align: right;\n",
       "    }\n",
       "</style>\n",
       "<table border=\"1\" class=\"dataframe\">\n",
       "  <thead>\n",
       "    <tr style=\"text-align: right;\">\n",
       "      <th></th>\n",
       "      <th>day</th>\n",
       "      <th>count</th>\n",
       "    </tr>\n",
       "  </thead>\n",
       "  <tbody>\n",
       "    <tr>\n",
       "      <th>0</th>\n",
       "      <td>1</td>\n",
       "      <td>2582</td>\n",
       "    </tr>\n",
       "    <tr>\n",
       "      <th>1</th>\n",
       "      <td>3</td>\n",
       "      <td>3222</td>\n",
       "    </tr>\n",
       "    <tr>\n",
       "      <th>2</th>\n",
       "      <td>4</td>\n",
       "      <td>4191</td>\n",
       "    </tr>\n",
       "    <tr>\n",
       "      <th>3</th>\n",
       "      <td>5</td>\n",
       "      <td>2502</td>\n",
       "    </tr>\n",
       "    <tr>\n",
       "      <th>4</th>\n",
       "      <td>6</td>\n",
       "      <td>2538</td>\n",
       "    </tr>\n",
       "    <tr>\n",
       "      <th>5</th>\n",
       "      <td>7</td>\n",
       "      <td>4108</td>\n",
       "    </tr>\n",
       "    <tr>\n",
       "      <th>6</th>\n",
       "      <td>8</td>\n",
       "      <td>4406</td>\n",
       "    </tr>\n",
       "    <tr>\n",
       "      <th>7</th>\n",
       "      <td>9</td>\n",
       "      <td>4317</td>\n",
       "    </tr>\n",
       "    <tr>\n",
       "      <th>8</th>\n",
       "      <td>10</td>\n",
       "      <td>4523</td>\n",
       "    </tr>\n",
       "    <tr>\n",
       "      <th>9</th>\n",
       "      <td>11</td>\n",
       "      <td>4346</td>\n",
       "    </tr>\n",
       "    <tr>\n",
       "      <th>10</th>\n",
       "      <td>12</td>\n",
       "      <td>2865</td>\n",
       "    </tr>\n",
       "    <tr>\n",
       "      <th>11</th>\n",
       "      <td>13</td>\n",
       "      <td>2650</td>\n",
       "    </tr>\n",
       "    <tr>\n",
       "      <th>12</th>\n",
       "      <td>14</td>\n",
       "      <td>4454</td>\n",
       "    </tr>\n",
       "    <tr>\n",
       "      <th>13</th>\n",
       "      <td>15</td>\n",
       "      <td>4214</td>\n",
       "    </tr>\n",
       "    <tr>\n",
       "      <th>14</th>\n",
       "      <td>16</td>\n",
       "      <td>4340</td>\n",
       "    </tr>\n",
       "    <tr>\n",
       "      <th>15</th>\n",
       "      <td>17</td>\n",
       "      <td>4385</td>\n",
       "    </tr>\n",
       "    <tr>\n",
       "      <th>16</th>\n",
       "      <td>18</td>\n",
       "      <td>4168</td>\n",
       "    </tr>\n",
       "    <tr>\n",
       "      <th>17</th>\n",
       "      <td>19</td>\n",
       "      <td>2550</td>\n",
       "    </tr>\n",
       "    <tr>\n",
       "      <th>18</th>\n",
       "      <td>20</td>\n",
       "      <td>2560</td>\n",
       "    </tr>\n",
       "    <tr>\n",
       "      <th>19</th>\n",
       "      <td>21</td>\n",
       "      <td>4135</td>\n",
       "    </tr>\n",
       "    <tr>\n",
       "      <th>20</th>\n",
       "      <td>22</td>\n",
       "      <td>4456</td>\n",
       "    </tr>\n",
       "    <tr>\n",
       "      <th>21</th>\n",
       "      <td>23</td>\n",
       "      <td>4368</td>\n",
       "    </tr>\n",
       "    <tr>\n",
       "      <th>22</th>\n",
       "      <td>24</td>\n",
       "      <td>4077</td>\n",
       "    </tr>\n",
       "    <tr>\n",
       "      <th>23</th>\n",
       "      <td>25</td>\n",
       "      <td>4407</td>\n",
       "    </tr>\n",
       "    <tr>\n",
       "      <th>24</th>\n",
       "      <td>26</td>\n",
       "      <td>2644</td>\n",
       "    </tr>\n",
       "    <tr>\n",
       "      <th>25</th>\n",
       "      <td>27</td>\n",
       "      <td>2690</td>\n",
       "    </tr>\n",
       "    <tr>\n",
       "      <th>26</th>\n",
       "      <td>28</td>\n",
       "      <td>4215</td>\n",
       "    </tr>\n",
       "    <tr>\n",
       "      <th>27</th>\n",
       "      <td>29</td>\n",
       "      <td>4826</td>\n",
       "    </tr>\n",
       "    <tr>\n",
       "      <th>28</th>\n",
       "      <td>30</td>\n",
       "      <td>5266</td>\n",
       "    </tr>\n",
       "    <tr>\n",
       "      <th>29</th>\n",
       "      <td>31</td>\n",
       "      <td>5916</td>\n",
       "    </tr>\n",
       "  </tbody>\n",
       "</table>\n",
       "</div>"
      ],
      "text/plain": [
       "    day  count\n",
       "0     1   2582\n",
       "1     3   3222\n",
       "2     4   4191\n",
       "3     5   2502\n",
       "4     6   2538\n",
       "5     7   4108\n",
       "6     8   4406\n",
       "7     9   4317\n",
       "8    10   4523\n",
       "9    11   4346\n",
       "10   12   2865\n",
       "11   13   2650\n",
       "12   14   4454\n",
       "13   15   4214\n",
       "14   16   4340\n",
       "15   17   4385\n",
       "16   18   4168\n",
       "17   19   2550\n",
       "18   20   2560\n",
       "19   21   4135\n",
       "20   22   4456\n",
       "21   23   4368\n",
       "22   24   4077\n",
       "23   25   4407\n",
       "24   26   2644\n",
       "25   27   2690\n",
       "26   28   4215\n",
       "27   29   4826\n",
       "28   30   5266\n",
       "29   31   5916"
      ]
     },
     "execution_count": 35,
     "metadata": {},
     "output_type": "execute_result"
    }
   ],
   "source": [
    "daily_hosts_df = host_day_distinct_df.groupBy(\"day\").count().sort(\"day\")\n",
    "\n",
    "daily_hosts_df = daily_hosts_df.toPandas()\n",
    "daily_hosts_df"
   ]
  },
  {
   "cell_type": "code",
   "execution_count": 36,
   "metadata": {},
   "outputs": [
    {
     "data": {
      "image/png": "[encoded data removed]",
      "text/plain": [
       "<Figure size 750x500 with 1 Axes>"
      ]
     },
     "metadata": {},
     "output_type": "display_data"
    }
   ],
   "source": [
    "# Visualize the daily_hosts_df DataFrame\n",
    "c = sns.catplot(\n",
    "    x=\"day\", y=\"count\", data=daily_hosts_df, kind=\"point\", height=5, aspect=1.5\n",
    ")"
   ]
  },
  {
   "cell_type": "markdown",
   "metadata": {},
   "source": [
    "### Average Number of Daily Requests per Host"
   ]
  },
  {
   "cell_type": "code",
   "execution_count": 37,
   "metadata": {},
   "outputs": [],
   "source": [
    "# Calculate the average number of requests daily per Host\n",
    "daily_hosts_df = (\n",
    "    host_day_distinct_df.groupBy(\"day\")\n",
    "    .count()\n",
    "    .select(col(\"day\"), col(\"count\").alias(\"total_hosts\"))\n",
    ")"
   ]
  },
  {
   "cell_type": "code",
   "execution_count": 38,
   "metadata": {},
   "outputs": [],
   "source": [
    "total_daily_reqests_df = (\n",
    "    df_parsed.select(F.dayofmonth(\"timestamp\").alias(\"day\"))\n",
    "    .groupBy(\"day\")\n",
    "    .count()\n",
    "    .select(col(\"day\"), col(\"count\").alias(\"total_reqs\"))\n",
    ")"
   ]
  },
  {
   "cell_type": "code",
   "execution_count": 39,
   "metadata": {},
   "outputs": [],
   "source": [
    "avg_daily_reqests_per_host_df = total_daily_reqests_df.join(daily_hosts_df, \"day\")\n",
    "avg_daily_reqests_per_host_df = avg_daily_reqests_per_host_df.withColumn(\n",
    "    \"avg_reqs\", col(\"total_reqs\") / col(\"total_hosts\")\n",
    ").sort(\"day\")"
   ]
  },
  {
   "cell_type": "code",
   "execution_count": 40,
   "metadata": {},
   "outputs": [
    {
     "name": "stderr",
     "output_type": "stream",
     "text": [
      "                                                                                \r"
     ]
    },
    {
     "data": {
      "text/html": [
       "<div>\n",
       "<style scoped>\n",
       "    .dataframe tbody tr th:only-of-type {\n",
       "        vertical-align: middle;\n",
       "    }\n",
       "\n",
       "    .dataframe tbody tr th {\n",
       "        vertical-align: top;\n",
       "    }\n",
       "\n",
       "    .dataframe thead th {\n",
       "        text-align: right;\n",
       "    }\n",
       "</style>\n",
       "<table border=\"1\" class=\"dataframe\">\n",
       "  <thead>\n",
       "    <tr style=\"text-align: right;\">\n",
       "      <th></th>\n",
       "      <th>day</th>\n",
       "      <th>total_reqs</th>\n",
       "      <th>total_hosts</th>\n",
       "      <th>avg_reqs</th>\n",
       "    </tr>\n",
       "  </thead>\n",
       "  <tbody>\n",
       "    <tr>\n",
       "      <th>0</th>\n",
       "      <td>1</td>\n",
       "      <td>33996</td>\n",
       "      <td>2582</td>\n",
       "      <td>13.166538</td>\n",
       "    </tr>\n",
       "    <tr>\n",
       "      <th>1</th>\n",
       "      <td>3</td>\n",
       "      <td>41388</td>\n",
       "      <td>3222</td>\n",
       "      <td>12.845438</td>\n",
       "    </tr>\n",
       "    <tr>\n",
       "      <th>2</th>\n",
       "      <td>4</td>\n",
       "      <td>59557</td>\n",
       "      <td>4191</td>\n",
       "      <td>14.210690</td>\n",
       "    </tr>\n",
       "    <tr>\n",
       "      <th>3</th>\n",
       "      <td>5</td>\n",
       "      <td>31893</td>\n",
       "      <td>2502</td>\n",
       "      <td>12.747002</td>\n",
       "    </tr>\n",
       "    <tr>\n",
       "      <th>4</th>\n",
       "      <td>6</td>\n",
       "      <td>32420</td>\n",
       "      <td>2538</td>\n",
       "      <td>12.773838</td>\n",
       "    </tr>\n",
       "    <tr>\n",
       "      <th>5</th>\n",
       "      <td>7</td>\n",
       "      <td>57362</td>\n",
       "      <td>4108</td>\n",
       "      <td>13.963486</td>\n",
       "    </tr>\n",
       "    <tr>\n",
       "      <th>6</th>\n",
       "      <td>8</td>\n",
       "      <td>60157</td>\n",
       "      <td>4406</td>\n",
       "      <td>13.653427</td>\n",
       "    </tr>\n",
       "    <tr>\n",
       "      <th>7</th>\n",
       "      <td>9</td>\n",
       "      <td>60458</td>\n",
       "      <td>4317</td>\n",
       "      <td>14.004633</td>\n",
       "    </tr>\n",
       "    <tr>\n",
       "      <th>8</th>\n",
       "      <td>10</td>\n",
       "      <td>61248</td>\n",
       "      <td>4523</td>\n",
       "      <td>13.541455</td>\n",
       "    </tr>\n",
       "    <tr>\n",
       "      <th>9</th>\n",
       "      <td>11</td>\n",
       "      <td>61246</td>\n",
       "      <td>4346</td>\n",
       "      <td>14.092499</td>\n",
       "    </tr>\n",
       "    <tr>\n",
       "      <th>10</th>\n",
       "      <td>12</td>\n",
       "      <td>38071</td>\n",
       "      <td>2865</td>\n",
       "      <td>13.288307</td>\n",
       "    </tr>\n",
       "    <tr>\n",
       "      <th>11</th>\n",
       "      <td>13</td>\n",
       "      <td>36480</td>\n",
       "      <td>2650</td>\n",
       "      <td>13.766038</td>\n",
       "    </tr>\n",
       "    <tr>\n",
       "      <th>12</th>\n",
       "      <td>14</td>\n",
       "      <td>59878</td>\n",
       "      <td>4454</td>\n",
       "      <td>13.443646</td>\n",
       "    </tr>\n",
       "    <tr>\n",
       "      <th>13</th>\n",
       "      <td>15</td>\n",
       "      <td>58847</td>\n",
       "      <td>4214</td>\n",
       "      <td>13.964642</td>\n",
       "    </tr>\n",
       "    <tr>\n",
       "      <th>14</th>\n",
       "      <td>16</td>\n",
       "      <td>56653</td>\n",
       "      <td>4340</td>\n",
       "      <td>13.053687</td>\n",
       "    </tr>\n",
       "    <tr>\n",
       "      <th>15</th>\n",
       "      <td>17</td>\n",
       "      <td>58988</td>\n",
       "      <td>4385</td>\n",
       "      <td>13.452223</td>\n",
       "    </tr>\n",
       "    <tr>\n",
       "      <th>16</th>\n",
       "      <td>18</td>\n",
       "      <td>56246</td>\n",
       "      <td>4168</td>\n",
       "      <td>13.494722</td>\n",
       "    </tr>\n",
       "    <tr>\n",
       "      <th>17</th>\n",
       "      <td>19</td>\n",
       "      <td>32094</td>\n",
       "      <td>2550</td>\n",
       "      <td>12.585882</td>\n",
       "    </tr>\n",
       "    <tr>\n",
       "      <th>18</th>\n",
       "      <td>20</td>\n",
       "      <td>32963</td>\n",
       "      <td>2560</td>\n",
       "      <td>12.876172</td>\n",
       "    </tr>\n",
       "    <tr>\n",
       "      <th>19</th>\n",
       "      <td>21</td>\n",
       "      <td>55540</td>\n",
       "      <td>4135</td>\n",
       "      <td>13.431681</td>\n",
       "    </tr>\n",
       "    <tr>\n",
       "      <th>20</th>\n",
       "      <td>22</td>\n",
       "      <td>57762</td>\n",
       "      <td>4456</td>\n",
       "      <td>12.962747</td>\n",
       "    </tr>\n",
       "    <tr>\n",
       "      <th>21</th>\n",
       "      <td>23</td>\n",
       "      <td>58097</td>\n",
       "      <td>4368</td>\n",
       "      <td>13.300595</td>\n",
       "    </tr>\n",
       "    <tr>\n",
       "      <th>22</th>\n",
       "      <td>24</td>\n",
       "      <td>52552</td>\n",
       "      <td>4077</td>\n",
       "      <td>12.889870</td>\n",
       "    </tr>\n",
       "    <tr>\n",
       "      <th>23</th>\n",
       "      <td>25</td>\n",
       "      <td>57321</td>\n",
       "      <td>4407</td>\n",
       "      <td>13.006807</td>\n",
       "    </tr>\n",
       "    <tr>\n",
       "      <th>24</th>\n",
       "      <td>26</td>\n",
       "      <td>31608</td>\n",
       "      <td>2644</td>\n",
       "      <td>11.954614</td>\n",
       "    </tr>\n",
       "    <tr>\n",
       "      <th>25</th>\n",
       "      <td>27</td>\n",
       "      <td>32823</td>\n",
       "      <td>2690</td>\n",
       "      <td>12.201859</td>\n",
       "    </tr>\n",
       "    <tr>\n",
       "      <th>26</th>\n",
       "      <td>28</td>\n",
       "      <td>55496</td>\n",
       "      <td>4215</td>\n",
       "      <td>13.166311</td>\n",
       "    </tr>\n",
       "    <tr>\n",
       "      <th>27</th>\n",
       "      <td>29</td>\n",
       "      <td>67988</td>\n",
       "      <td>4826</td>\n",
       "      <td>14.087857</td>\n",
       "    </tr>\n",
       "    <tr>\n",
       "      <th>28</th>\n",
       "      <td>30</td>\n",
       "      <td>80641</td>\n",
       "      <td>5266</td>\n",
       "      <td>15.313521</td>\n",
       "    </tr>\n",
       "    <tr>\n",
       "      <th>29</th>\n",
       "      <td>31</td>\n",
       "      <td>90125</td>\n",
       "      <td>5916</td>\n",
       "      <td>15.234111</td>\n",
       "    </tr>\n",
       "  </tbody>\n",
       "</table>\n",
       "</div>"
      ],
      "text/plain": [
       "    day  total_reqs  total_hosts   avg_reqs\n",
       "0     1       33996         2582  13.166538\n",
       "1     3       41388         3222  12.845438\n",
       "2     4       59557         4191  14.210690\n",
       "3     5       31893         2502  12.747002\n",
       "4     6       32420         2538  12.773838\n",
       "5     7       57362         4108  13.963486\n",
       "6     8       60157         4406  13.653427\n",
       "7     9       60458         4317  14.004633\n",
       "8    10       61248         4523  13.541455\n",
       "9    11       61246         4346  14.092499\n",
       "10   12       38071         2865  13.288307\n",
       "11   13       36480         2650  13.766038\n",
       "12   14       59878         4454  13.443646\n",
       "13   15       58847         4214  13.964642\n",
       "14   16       56653         4340  13.053687\n",
       "15   17       58988         4385  13.452223\n",
       "16   18       56246         4168  13.494722\n",
       "17   19       32094         2550  12.585882\n",
       "18   20       32963         2560  12.876172\n",
       "19   21       55540         4135  13.431681\n",
       "20   22       57762         4456  12.962747\n",
       "21   23       58097         4368  13.300595\n",
       "22   24       52552         4077  12.889870\n",
       "23   25       57321         4407  13.006807\n",
       "24   26       31608         2644  11.954614\n",
       "25   27       32823         2690  12.201859\n",
       "26   28       55496         4215  13.166311\n",
       "27   29       67988         4826  14.087857\n",
       "28   30       80641         5266  15.313521\n",
       "29   31       90125         5916  15.234111"
      ]
     },
     "execution_count": 40,
     "metadata": {},
     "output_type": "execute_result"
    }
   ],
   "source": [
    "# Visualize the average daily requests per host\n",
    "avg_daily_reqests_per_host_df = avg_daily_reqests_per_host_df.toPandas()\n",
    "avg_daily_reqests_per_host_df"
   ]
  },
  {
   "cell_type": "code",
   "execution_count": 41,
   "metadata": {},
   "outputs": [
    {
     "data": {
      "image/png": "[encoded data removed]",
      "text/plain": [
       "<Figure size 750x500 with 1 Axes>"
      ]
     },
     "metadata": {},
     "output_type": "display_data"
    }
   ],
   "source": [
    "c = sns.catplot(\n",
    "    x=\"day\",\n",
    "    y=\"avg_reqs\",\n",
    "    data=avg_daily_reqests_per_host_df,\n",
    "    kind=\"point\",\n",
    "    height=5,\n",
    "    aspect=1.5,\n",
    ")"
   ]
  },
  {
   "cell_type": "markdown",
   "metadata": {},
   "source": [
    "### Counting 404 Response Codes"
   ]
  },
  {
   "cell_type": "code",
   "execution_count": 42,
   "metadata": {},
   "outputs": [
    {
     "name": "stderr",
     "output_type": "stream",
     "text": [
      "[Stage 123:=========================================================(1 + 0) / 1]\r"
     ]
    },
    {
     "name": "stdout",
     "output_type": "stream",
     "text": [
      "Total 404 responses: 10056\n"
     ]
    },
    {
     "name": "stderr",
     "output_type": "stream",
     "text": [
      "                                                                                \r"
     ]
    }
   ],
   "source": [
    "# Analyze 404 response codes\n",
    "not_found_df = df_parsed.filter(df_parsed[\"status\"] == 404).cache()\n",
    "print((\"Total 404 responses: {}\").format(not_found_df.count()))"
   ]
  },
  {
   "cell_type": "markdown",
   "metadata": {},
   "source": [
    "### Top Twenty 404 Response Code Endpoints"
   ]
  },
  {
   "cell_type": "code",
   "execution_count": 43,
   "metadata": {},
   "outputs": [
    {
     "name": "stdout",
     "output_type": "stream",
     "text": [
      "+-----------------------------------------------------------------+-----+\n",
      "|endpoint                                                         |count|\n",
      "+-----------------------------------------------------------------+-----+\n",
      "|/pub/winvn/readme.txt                                            |1337 |\n",
      "|/pub/winvn/release.txt                                           |1185 |\n",
      "|/shuttle/missions/STS-69/mission-STS-69.html                     |682  |\n",
      "|/images/nasa-logo.gif                                            |319  |\n",
      "|/shuttle/missions/sts-68/ksc-upclose.gif                         |251  |\n",
      "|/elv/DELTA/uncons.htm                                            |209  |\n",
      "|/history/apollo/sa-1/sa-1-patch-small.gif                        |200  |\n",
      "|/://spacelink.msfc.nasa.gov                                      |166  |\n",
      "|/images/crawlerway-logo.gif                                      |160  |\n",
      "|/history/apollo/a-001/a-001-patch-small.gif                      |154  |\n",
      "|/history/apollo/pad-abort-test-1/pad-abort-test-1-patch-small.gif|144  |\n",
      "|                                                                 |141  |\n",
      "|/images/Nasa-logo.gif                                            |85   |\n",
      "|/history/apollo/images/little-joe.jpg                            |84   |\n",
      "|/shuttle/resources/orbiters/discovery.gif                        |82   |\n",
      "|/shuttle/resources/orbiters/atlantis.gif                         |80   |\n",
      "|/images/lf-logo.gif                                              |77   |\n",
      "|/robots.txt                                                      |77   |\n",
      "|/shuttle/resources/orbiters/challenger.gif                       |77   |\n",
      "|/software/winvn/winvn.html.                                      |57   |\n",
      "+-----------------------------------------------------------------+-----+\n",
      "\n"
     ]
    }
   ],
   "source": [
    "# Analyze top 20 endpoints causing 404 errors\n",
    "endpoints_404_count_df = (\n",
    "    not_found_df.groupBy(\"endpoint\").count().sort(\"count\", ascending=False).limit(20)\n",
    ")\n",
    "\n",
    "endpoints_404_count_df.show(truncate=False)"
   ]
  },
  {
   "cell_type": "markdown",
   "metadata": {},
   "source": [
    "### Top Twenty 404 Response Code Hosts"
   ]
  },
  {
   "cell_type": "code",
   "execution_count": 44,
   "metadata": {},
   "outputs": [
    {
     "name": "stdout",
     "output_type": "stream",
     "text": [
      "+---------------------------+-----+\n",
      "|host                       |count|\n",
      "+---------------------------+-----+\n",
      "|dialip-217.den.mmc.com     |62   |\n",
      "|piweba3y.prodigy.com       |47   |\n",
      "|155.148.25.4               |44   |\n",
      "|maz3.maz.net               |39   |\n",
      "|gate.barr.com              |38   |\n",
      "|ts8-1.westwood.ts.ucla.edu |37   |\n",
      "|m38-370-9.mit.edu          |37   |\n",
      "|nexus.mlckew.edu.au        |37   |\n",
      "|204.62.245.32              |37   |\n",
      "|scooter.pa-x.dec.com       |35   |\n",
      "|reddragon.ksc.nasa.gov     |33   |\n",
      "|www-c4.proxy.aol.com       |32   |\n",
      "|piweba5y.prodigy.com       |31   |\n",
      "|piweba4y.prodigy.com       |30   |\n",
      "|www-d4.proxy.aol.com       |30   |\n",
      "|internet-gw.watson.ibm.com |29   |\n",
      "|unidata.com                |28   |\n",
      "|163.206.104.34             |28   |\n",
      "|spica.sci.isas.ac.jp       |27   |\n",
      "|www-d2.proxy.aol.com       |26   |\n",
      "+---------------------------+-----+\n",
      "\n"
     ]
    }
   ],
   "source": [
    "# Analyze top 20 hosts causing 404 errors\n",
    "hosts_404_count_df = (\n",
    "    not_found_df.groupBy(\"host\").count().sort(\"count\", ascending=False).limit(20)\n",
    ")\n",
    "\n",
    "hosts_404_count_df.show(truncate=False)"
   ]
  },
  {
   "cell_type": "markdown",
   "metadata": {},
   "source": [
    "### Visualizing 404 Errors per Day"
   ]
  },
  {
   "cell_type": "code",
   "execution_count": 45,
   "metadata": {},
   "outputs": [
    {
     "data": {
      "text/html": [
       "<div>\n",
       "<style scoped>\n",
       "    .dataframe tbody tr th:only-of-type {\n",
       "        vertical-align: middle;\n",
       "    }\n",
       "\n",
       "    .dataframe tbody tr th {\n",
       "        vertical-align: top;\n",
       "    }\n",
       "\n",
       "    .dataframe thead th {\n",
       "        text-align: right;\n",
       "    }\n",
       "</style>\n",
       "<table border=\"1\" class=\"dataframe\">\n",
       "  <thead>\n",
       "    <tr style=\"text-align: right;\">\n",
       "      <th></th>\n",
       "      <th>day</th>\n",
       "      <th>count</th>\n",
       "    </tr>\n",
       "  </thead>\n",
       "  <tbody>\n",
       "    <tr>\n",
       "      <th>0</th>\n",
       "      <td>1</td>\n",
       "      <td>243</td>\n",
       "    </tr>\n",
       "    <tr>\n",
       "      <th>1</th>\n",
       "      <td>3</td>\n",
       "      <td>304</td>\n",
       "    </tr>\n",
       "    <tr>\n",
       "      <th>2</th>\n",
       "      <td>4</td>\n",
       "      <td>346</td>\n",
       "    </tr>\n",
       "    <tr>\n",
       "      <th>3</th>\n",
       "      <td>5</td>\n",
       "      <td>236</td>\n",
       "    </tr>\n",
       "    <tr>\n",
       "      <th>4</th>\n",
       "      <td>6</td>\n",
       "      <td>373</td>\n",
       "    </tr>\n",
       "    <tr>\n",
       "      <th>5</th>\n",
       "      <td>7</td>\n",
       "      <td>537</td>\n",
       "    </tr>\n",
       "    <tr>\n",
       "      <th>6</th>\n",
       "      <td>8</td>\n",
       "      <td>391</td>\n",
       "    </tr>\n",
       "    <tr>\n",
       "      <th>7</th>\n",
       "      <td>9</td>\n",
       "      <td>279</td>\n",
       "    </tr>\n",
       "    <tr>\n",
       "      <th>8</th>\n",
       "      <td>10</td>\n",
       "      <td>315</td>\n",
       "    </tr>\n",
       "    <tr>\n",
       "      <th>9</th>\n",
       "      <td>11</td>\n",
       "      <td>263</td>\n",
       "    </tr>\n",
       "    <tr>\n",
       "      <th>10</th>\n",
       "      <td>12</td>\n",
       "      <td>196</td>\n",
       "    </tr>\n",
       "    <tr>\n",
       "      <th>11</th>\n",
       "      <td>13</td>\n",
       "      <td>216</td>\n",
       "    </tr>\n",
       "    <tr>\n",
       "      <th>12</th>\n",
       "      <td>14</td>\n",
       "      <td>287</td>\n",
       "    </tr>\n",
       "    <tr>\n",
       "      <th>13</th>\n",
       "      <td>15</td>\n",
       "      <td>327</td>\n",
       "    </tr>\n",
       "    <tr>\n",
       "      <th>14</th>\n",
       "      <td>16</td>\n",
       "      <td>259</td>\n",
       "    </tr>\n",
       "    <tr>\n",
       "      <th>15</th>\n",
       "      <td>17</td>\n",
       "      <td>271</td>\n",
       "    </tr>\n",
       "    <tr>\n",
       "      <th>16</th>\n",
       "      <td>18</td>\n",
       "      <td>256</td>\n",
       "    </tr>\n",
       "    <tr>\n",
       "      <th>17</th>\n",
       "      <td>19</td>\n",
       "      <td>209</td>\n",
       "    </tr>\n",
       "    <tr>\n",
       "      <th>18</th>\n",
       "      <td>20</td>\n",
       "      <td>312</td>\n",
       "    </tr>\n",
       "    <tr>\n",
       "      <th>19</th>\n",
       "      <td>21</td>\n",
       "      <td>305</td>\n",
       "    </tr>\n",
       "    <tr>\n",
       "      <th>20</th>\n",
       "      <td>22</td>\n",
       "      <td>288</td>\n",
       "    </tr>\n",
       "    <tr>\n",
       "      <th>21</th>\n",
       "      <td>23</td>\n",
       "      <td>345</td>\n",
       "    </tr>\n",
       "    <tr>\n",
       "      <th>22</th>\n",
       "      <td>24</td>\n",
       "      <td>420</td>\n",
       "    </tr>\n",
       "    <tr>\n",
       "      <th>23</th>\n",
       "      <td>25</td>\n",
       "      <td>415</td>\n",
       "    </tr>\n",
       "    <tr>\n",
       "      <th>24</th>\n",
       "      <td>26</td>\n",
       "      <td>366</td>\n",
       "    </tr>\n",
       "    <tr>\n",
       "      <th>25</th>\n",
       "      <td>27</td>\n",
       "      <td>370</td>\n",
       "    </tr>\n",
       "    <tr>\n",
       "      <th>26</th>\n",
       "      <td>28</td>\n",
       "      <td>410</td>\n",
       "    </tr>\n",
       "    <tr>\n",
       "      <th>27</th>\n",
       "      <td>29</td>\n",
       "      <td>420</td>\n",
       "    </tr>\n",
       "    <tr>\n",
       "      <th>28</th>\n",
       "      <td>30</td>\n",
       "      <td>571</td>\n",
       "    </tr>\n",
       "    <tr>\n",
       "      <th>29</th>\n",
       "      <td>31</td>\n",
       "      <td>526</td>\n",
       "    </tr>\n",
       "  </tbody>\n",
       "</table>\n",
       "</div>"
      ],
      "text/plain": [
       "    day  count\n",
       "0     1    243\n",
       "1     3    304\n",
       "2     4    346\n",
       "3     5    236\n",
       "4     6    373\n",
       "5     7    537\n",
       "6     8    391\n",
       "7     9    279\n",
       "8    10    315\n",
       "9    11    263\n",
       "10   12    196\n",
       "11   13    216\n",
       "12   14    287\n",
       "13   15    327\n",
       "14   16    259\n",
       "15   17    271\n",
       "16   18    256\n",
       "17   19    209\n",
       "18   20    312\n",
       "19   21    305\n",
       "20   22    288\n",
       "21   23    345\n",
       "22   24    420\n",
       "23   25    415\n",
       "24   26    366\n",
       "25   27    370\n",
       "26   28    410\n",
       "27   29    420\n",
       "28   30    571\n",
       "29   31    526"
      ]
     },
     "execution_count": 45,
     "metadata": {},
     "output_type": "execute_result"
    }
   ],
   "source": [
    "# Visualize 404 errors by day\n",
    "errors_by_date_sorted_df = (\n",
    "    not_found_df.groupBy(F.dayofmonth(\"timestamp\").alias(\"day\")).count().sort(\"day\")\n",
    ")\n",
    "\n",
    "errors_by_date_sorted_pd_df = errors_by_date_sorted_df.toPandas()\n",
    "errors_by_date_sorted_pd_df"
   ]
  },
  {
   "cell_type": "code",
   "execution_count": 46,
   "metadata": {},
   "outputs": [
    {
     "data": {
      "image/png": "[encoded data removed]",
      "text/plain": [
       "<Figure size 750x500 with 1 Axes>"
      ]
     },
     "metadata": {},
     "output_type": "display_data"
    }
   ],
   "source": [
    "c = sns.catplot(\n",
    "    x=\"day\",\n",
    "    y=\"count\",\n",
    "    data=errors_by_date_sorted_pd_df,\n",
    "    kind=\"point\",\n",
    "    height=5,\n",
    "    aspect=1.5,\n",
    ")"
   ]
  },
  {
   "cell_type": "markdown",
   "metadata": {},
   "source": [
    "### Top Three Days for 404 Errors"
   ]
  },
  {
   "cell_type": "code",
   "execution_count": 47,
   "metadata": {},
   "outputs": [
    {
     "name": "stdout",
     "output_type": "stream",
     "text": [
      "+---+-----+\n",
      "|day|count|\n",
      "+---+-----+\n",
      "| 30|  571|\n",
      "|  7|  537|\n",
      "| 31|  526|\n",
      "+---+-----+\n",
      "only showing top 3 rows\n",
      "\n"
     ]
    }
   ],
   "source": [
    "# Identify the three days with the most 404 errors\n",
    "(errors_by_date_sorted_df.sort(\"count\", ascending=False).show(3))"
   ]
  },
  {
   "cell_type": "markdown",
   "metadata": {},
   "source": [
    "### Visualizing Hourly 404 Errors"
   ]
  },
  {
   "cell_type": "code",
   "execution_count": 48,
   "metadata": {},
   "outputs": [],
   "source": [
    "# Visualize 404 errors by hour\n",
    "hourly_avg_errors_sorted_df = (\n",
    "    not_found_df.groupBy(F.hour(\"timestamp\").alias(\"hour\")).count().sort(\"hour\")\n",
    ")\n",
    "hourly_avg_errors_sorted_pd_df = hourly_avg_errors_sorted_df.toPandas()"
   ]
  },
  {
   "cell_type": "code",
   "execution_count": 49,
   "metadata": {},
   "outputs": [
    {
     "data": {
      "image/png": "[encoded data removed]",
      "text/plain": [
       "<Figure size 750x500 with 1 Axes>"
      ]
     },
     "metadata": {},
     "output_type": "display_data"
    }
   ],
   "source": [
    "c = sns.catplot(\n",
    "    x=\"hour\",\n",
    "    y=\"count\",\n",
    "    data=hourly_avg_errors_sorted_pd_df,\n",
    "    kind=\"bar\",\n",
    "    height=5,\n",
    "    aspect=1.5,\n",
    ")"
   ]
  },
  {
   "attachments": {
    "image.png": {
     "image/png": "[encoded data removed]"
    }
   },
   "cell_type": "markdown",
   "metadata": {},
   "source": [
    "### 3.1 Generate the output presenting the endpoint that received the highest number of invocations on a specific day of the week, along with the corresponding count of invocations. (Summarize this for the entire dataset)\n",
    "#### 3.1.1 Output:\n",
    "#### Day in a week: Day in a week\n",
    "#### Endpoint: endpoint which was invoked the most.\n",
    "#### Count: Number of times it's been invoked\n",
    "#### 3.1.2 ![image.png](attachment:image.png)"
   ]
  },
  {
   "cell_type": "code",
   "execution_count": 50,
   "metadata": {},
   "outputs": [],
   "source": [
    "# Find the most frequently accessed endpoint for each day of the week\n",
    "df_parsed = df_parsed.withColumn(\"day_of_week\", F.date_format(\"timestamp\", \"E\"))"
   ]
  },
  {
   "cell_type": "code",
   "execution_count": 51,
   "metadata": {},
   "outputs": [],
   "source": [
    "df_grouped = df_parsed.groupBy(\"day_of_week\", \"endpoint\").count()"
   ]
  },
  {
   "cell_type": "code",
   "execution_count": 52,
   "metadata": {},
   "outputs": [],
   "source": [
    "window = Window.partitionBy(\"day_of_week\").orderBy(F.desc(\"count\"))\n",
    "df_result = df_grouped.withColumn(\"rn\", F.row_number().over(window)).filter(\n",
    "    F.col(\"rn\") == 1\n",
    ")"
   ]
  },
  {
   "cell_type": "code",
   "execution_count": 53,
   "metadata": {},
   "outputs": [
    {
     "name": "stderr",
     "output_type": "stream",
     "text": [
      "[Stage 156:>                                                        (0 + 1) / 1]\r"
     ]
    },
    {
     "name": "stdout",
     "output_type": "stream",
     "text": [
      "+-----------+--------------------+-----+\n",
      "|day_of_week|            endpoint|count|\n",
      "+-----------+--------------------+-----+\n",
      "|        Fri|/images/NASA-logo...|14178|\n",
      "|        Mon|/images/NASA-logo...|13737|\n",
      "|        Sat|/images/KSC-logos...| 6888|\n",
      "|        Sun|/images/KSC-logos...| 6651|\n",
      "|        Thu|/images/NASA-logo...|21762|\n",
      "|        Tue|/images/NASA-logo...|17624|\n",
      "|        Wed|/images/NASA-logo...|17167|\n",
      "+-----------+--------------------+-----+\n",
      "\n"
     ]
    },
    {
     "name": "stderr",
     "output_type": "stream",
     "text": [
      "                                                                                \r"
     ]
    }
   ],
   "source": [
    "df_result.select(\"day_of_week\", \"endpoint\", \"count\").show()"
   ]
  },
  {
   "cell_type": "markdown",
   "metadata": {},
   "source": [
    "### 3.2 Total number of 404 status codes generated in each day of a week(For Monday, Tuesday,..… Sunday) for the entire dataset."
   ]
  },
  {
   "cell_type": "code",
   "execution_count": 54,
   "metadata": {},
   "outputs": [
    {
     "name": "stderr",
     "output_type": "stream",
     "text": [
      "[Stage 157:=========================================================(1 + 0) / 1]\r"
     ]
    },
    {
     "name": "stdout",
     "output_type": "stream",
     "text": [
      "+-----------+-----+\n",
      "|day_of_week|count|\n",
      "+-----------+-----+\n",
      "|        Sun| 1271|\n",
      "|        Mon| 1539|\n",
      "|        Thu| 1836|\n",
      "|        Sat| 1007|\n",
      "|        Wed| 1454|\n",
      "|        Tue| 1669|\n",
      "|        Fri| 1280|\n",
      "+-----------+-----+\n",
      "\n"
     ]
    },
    {
     "name": "stderr",
     "output_type": "stream",
     "text": [
      "                                                                                \r"
     ]
    }
   ],
   "source": [
    "# Filter for the rows with status code 404\n",
    "df = df_parsed.filter(F.col(\"status\") == 404)\n",
    "\n",
    "# Group by the day of the week and count the number of rows\n",
    "df_grouped = df.groupBy(\"day_of_week\").count()\n",
    "\n",
    "# Display the result\n",
    "df_grouped.show()"
   ]
  },
  {
   "cell_type": "code",
   "execution_count": null,
   "metadata": {},
   "outputs": [],
   "source": []
  }
 ],
 "metadata": {
  "kernelspec": {
   "display_name": "Python 3 (ipykernel)",
   "language": "python",
   "name": "python3"
  },
  "language_info": {
   "codemirror_mode": {
    "name": "ipython",
    "version": 3
   },
   "file_extension": ".py",
   "mimetype": "text/x-python",
   "name": "python",
   "nbconvert_exporter": "python",
   "pygments_lexer": "ipython3",
   "version": "3.10.0"
  }
 },
 "nbformat": 4,
 "nbformat_minor": 4
}
